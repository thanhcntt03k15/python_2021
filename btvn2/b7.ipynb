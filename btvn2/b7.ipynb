{
 "cells": [
  {
   "cell_type": "code",
   "execution_count": 19,
   "id": "ff81f8af",
   "metadata": {},
   "outputs": [
    {
     "name": "stdout",
     "output_type": "stream",
     "text": [
      "4\n"
     ]
    }
   ],
   "source": [
    "n = int(input())\n",
    "ten=[]\n",
    "dantoc=[]\n",
    "t=[]\n",
    "maxn=0"
   ]
  },
  {
   "cell_type": "code",
   "execution_count": 21,
   "id": "9d5085fe",
   "metadata": {},
   "outputs": [
    {
     "name": "stdout",
     "output_type": "stream",
     "text": [
      "a b\n",
      "c b\n",
      "d b\n",
      "e f\n"
     ]
    }
   ],
   "source": [
    "for i in range(n):\n",
    "    s=input().split()\n",
    "    ten.append(s[0])\n",
    "    dantoc.append(s[1])"
   ]
  },
  {
   "cell_type": "code",
   "execution_count": 22,
   "id": "a0eb2ac9",
   "metadata": {},
   "outputs": [
    {
     "name": "stdout",
     "output_type": "stream",
     "text": [
      "['a', 'c', 'd']\n"
     ]
    }
   ],
   "source": [
    "for i in range(len(dantoc)):\n",
    "    if dantoc.count(dantoc[i])>maxn:\n",
    "        maxn=dantoc.count(dantoc[i])\n",
    "        s=dantoc[i]\n",
    "for i in range(len(ten)):\n",
    "    if dantoc[i]==s:\n",
    "        t.append(ten[i])\n",
    "print(t)\n"
   ]
  },
  {
   "cell_type": "code",
   "execution_count": null,
   "id": "73fa4b0d",
   "metadata": {},
   "outputs": [],
   "source": []
  }
 ],
 "metadata": {
  "kernelspec": {
   "display_name": "Python 3",
   "language": "python",
   "name": "python3"
  },
  "language_info": {
   "codemirror_mode": {
    "name": "ipython",
    "version": 3
   },
   "file_extension": ".py",
   "mimetype": "text/x-python",
   "name": "python",
   "nbconvert_exporter": "python",
   "pygments_lexer": "ipython3",
   "version": "3.8.8"
  }
 },
 "nbformat": 4,
 "nbformat_minor": 5
}
