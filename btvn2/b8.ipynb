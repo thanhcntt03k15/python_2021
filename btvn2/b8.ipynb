{
 "cells": [
  {
   "cell_type": "code",
   "execution_count": 14,
   "id": "c5cff611",
   "metadata": {},
   "outputs": [
    {
     "name": "stdout",
     "output_type": "stream",
     "text": [
      "101010000111\n",
      "10101 0000111\n"
     ]
    }
   ],
   "source": [
    "s = input()\n",
    "t=s.count('1')\n",
    "if t%2:\n",
    "    print(\"NO\")\n",
    "else:\n",
    "    t=t/2\n",
    "    j=0\n",
    "    for i in range(len(s)):\n",
    "        if s[i]=='1':\n",
    "            t-=1\n",
    "        if t==0:\n",
    "            j=i\n",
    "            break\n",
    "    print(s[0:j+1]+' '+s[j+1:len(s)])"
   ]
  },
  {
   "cell_type": "code",
   "execution_count": null,
   "id": "26482806",
   "metadata": {},
   "outputs": [],
   "source": []
  },
  {
   "cell_type": "code",
   "execution_count": null,
   "id": "bf653b1c",
   "metadata": {},
   "outputs": [],
   "source": []
  }
 ],
 "metadata": {
  "kernelspec": {
   "display_name": "Python 3",
   "language": "python",
   "name": "python3"
  },
  "language_info": {
   "codemirror_mode": {
    "name": "ipython",
    "version": 3
   },
   "file_extension": ".py",
   "mimetype": "text/x-python",
   "name": "python",
   "nbconvert_exporter": "python",
   "pygments_lexer": "ipython3",
   "version": "3.8.8"
  }
 },
 "nbformat": 4,
 "nbformat_minor": 5
}
