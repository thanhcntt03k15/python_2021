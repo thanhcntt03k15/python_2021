{
 "cells": [
  {
   "cell_type": "code",
   "execution_count": 31,
   "id": "dacdaa54",
   "metadata": {},
   "outputs": [
    {
     "name": "stdout",
     "output_type": "stream",
     "text": [
      "  Name  age  salary label\n",
      "0    A  1.0    12.0   Yes\n",
      "1    B  3.0     NaN    No\n",
      "2    C  2.0  1212.0    No\n",
      "3    C  NaN   222.0   Yes\n",
      "4    A  5.0    32.0   Yes\n",
      "5    B  4.0   222.0    No\n",
      "  Name  age  salary label\n",
      "0    A  1.0    12.0   Yes\n",
      "1    B  3.0   340.0    No\n",
      "2    C  2.0  1212.0    No\n",
      "3    C  3.0   222.0   Yes\n",
      "4    A  5.0    32.0   Yes\n",
      "5    B  4.0   222.0    No\n"
     ]
    }
   ],
   "source": [
    "#cách 1\n",
    "import pandas as pd\n",
    "from sklearn.impute import SimpleImputer\n",
    "df=SimpleImputer(missing_values=np.nan,strategy='mean') #tìm những phần tử là nan , tính trung bình cộng bằng mean \n",
    "dk = pd.read_csv(\"categorical_data.csv\")                # mở file .csv\n",
    "print(dk)\n",
    "dk.iloc[:,1:3]=df.fit_transform(dk.iloc[:,1:3])         #truyền giá trị được tính lại cho dk\n",
    "\n",
    "print(dk)"
   ]
  },
  {
   "cell_type": "code",
   "execution_count": 32,
   "id": "a73d842c",
   "metadata": {},
   "outputs": [
    {
     "name": "stdout",
     "output_type": "stream",
     "text": [
      "  Name  age  salary label\n",
      "0    A  1.0    12.0   Yes\n",
      "1    B  3.0     NaN    No\n",
      "2    C  2.0  1212.0    No\n",
      "3    C  NaN   222.0   Yes\n",
      "4    A  5.0    32.0   Yes\n",
      "5    B  4.0   222.0    No\n",
      "  Name  age  salary label\n",
      "0    A  1.0    12.0   Yes\n",
      "1    B  3.0   340.0    No\n",
      "2    C  2.0  1212.0    No\n",
      "3    C  3.0   222.0   Yes\n",
      "4    A  5.0    32.0   Yes\n",
      "5    B  4.0   222.0    No\n"
     ]
    }
   ],
   "source": [
    "#cách2\n",
    "import pandas as pd\n",
    "import numpy as np\n",
    "dk= pd.read_csv(\"categorical_data.csv\")\n",
    "print(dk)\n",
    "#print(dk)\n",
    "#hàm mean để tính tay trung bình cột\n",
    "def mean(m):\n",
    "    summ=0\n",
    "    count=0\n",
    "    for i in m:\n",
    "        if np.isnan(i) == False:  # nếu i khác nan thì cộng thêm \n",
    "            summ+=i;              # giá trị và số phân tử ngược lại không cộng\n",
    "            count+=1;\n",
    "    if count==0 : \n",
    "        return none   # trả về none nếu không có giá tị gốc\n",
    "    return summ/count #trả về trung bình cộng của cột\n",
    "meanAge=mean(dk.age)      # tính tbc cột age\n",
    "meanSalary=mean(dk.salary)# tính tbc cột salary\n",
    "dk['age'].fillna(value=meanAge,inplace= True)      # thay giá trị none bằng tbc của cột\n",
    "dk['salary'].fillna(value=meanSalary,inplace=True) # thay none bằng tbc cột\n",
    "print(dk)# tính tay"
   ]
  },
  {
   "cell_type": "code",
   "execution_count": null,
   "id": "1141ab5a",
   "metadata": {},
   "outputs": [],
   "source": []
  },
  {
   "cell_type": "code",
   "execution_count": null,
   "id": "00460413",
   "metadata": {},
   "outputs": [],
   "source": []
  },
  {
   "cell_type": "code",
   "execution_count": null,
   "id": "4e035329",
   "metadata": {},
   "outputs": [],
   "source": []
  }
 ],
 "metadata": {
  "kernelspec": {
   "display_name": "Python 3",
   "language": "python",
   "name": "python3"
  },
  "language_info": {
   "codemirror_mode": {
    "name": "ipython",
    "version": 3
   },
   "file_extension": ".py",
   "mimetype": "text/x-python",
   "name": "python",
   "nbconvert_exporter": "python",
   "pygments_lexer": "ipython3",
   "version": "3.8.8"
  }
 },
 "nbformat": 4,
 "nbformat_minor": 5
}
