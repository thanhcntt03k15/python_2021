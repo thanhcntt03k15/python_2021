{
 "cells": [
  {
   "cell_type": "code",
   "execution_count": 3,
   "id": "c534e0f3",
   "metadata": {},
   "outputs": [
    {
     "name": "stdout",
     "output_type": "stream",
     "text": [
      "lst1 123 1234\n",
      "123\n",
      "lst2 là tập con của lst1\n"
     ]
    }
   ],
   "source": [
    "lst1 = set(( input().split()))\n",
    "lst2 = set(( input().split()))\n",
    "if lst2-lst1== set():\n",
    "    print(\"lst2 là tập con của lst1\")\n",
    "else:\n",
    "    print(\"lst2 không là tập con của lst1\")"
   ]
  },
  {
   "cell_type": "code",
   "execution_count": null,
   "id": "4d01b30d",
   "metadata": {},
   "outputs": [],
   "source": []
  }
 ],
 "metadata": {
  "kernelspec": {
   "display_name": "Python 3",
   "language": "python",
   "name": "python3"
  },
  "language_info": {
   "codemirror_mode": {
    "name": "ipython",
    "version": 3
   },
   "file_extension": ".py",
   "mimetype": "text/x-python",
   "name": "python",
   "nbconvert_exporter": "python",
   "pygments_lexer": "ipython3",
   "version": "3.8.8"
  }
 },
 "nbformat": 4,
 "nbformat_minor": 5
}
