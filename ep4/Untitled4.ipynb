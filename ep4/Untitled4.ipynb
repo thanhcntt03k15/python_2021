{
 "cells": [
  {
   "cell_type": "code",
   "execution_count": 2,
   "id": "b9fe5707",
   "metadata": {},
   "outputs": [],
   "source": [
    "import math\n",
    "def check(a , k):\n",
    "    cnt=0\n",
    "    for i in a:\n",
    "        if k==i:\n",
    "            cnt+=1\n",
    "    return cnt\n"
   ]
  },
  {
   "cell_type": "code",
   "execution_count": 3,
   "id": "806ec599",
   "metadata": {},
   "outputs": [
    {
     "name": "stdout",
     "output_type": "stream",
     "text": [
      "1 2 3 4 5\n",
      "1:1\n",
      "2:1\n",
      "3:1\n",
      "4:1\n",
      "5:1\n"
     ]
    }
   ],
   "source": [
    "a = list(map(int, input().split()))\n",
    "for i in a:\n",
    "    print(str(i)+':'+str(check(a,i)))"
   ]
  },
  {
   "cell_type": "code",
   "execution_count": null,
   "id": "dac6675b",
   "metadata": {},
   "outputs": [],
   "source": []
  }
 ],
 "metadata": {
  "kernelspec": {
   "display_name": "Python 3",
   "language": "python",
   "name": "python3"
  },
  "language_info": {
   "codemirror_mode": {
    "name": "ipython",
    "version": 3
   },
   "file_extension": ".py",
   "mimetype": "text/x-python",
   "name": "python",
   "nbconvert_exporter": "python",
   "pygments_lexer": "ipython3",
   "version": "3.8.8"
  }
 },
 "nbformat": 4,
 "nbformat_minor": 5
}
