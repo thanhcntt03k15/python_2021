{
 "cells": [
  {
   "cell_type": "code",
   "execution_count": 9,
   "id": "e9b76905",
   "metadata": {},
   "outputs": [],
   "source": [
    "#bai1\n",
    "import math\n",
    "def cnt(a,b):\n",
    "    \"\"\"\n",
    "    :param:\n",
    "    input:\n",
    "    chuỗi a,b\n",
    "    output:\n",
    "    số chuỗi con của b==a\n",
    "    run:\n",
    "    chạy i trên chuỗi b\n",
    "    với mỗi i ta kiểm tra xem từ i đến i+len(a) có bằng chuỗi a không\n",
    "    \"\"\"\n",
    "    cnt=0\n",
    "    k=len(a)\n",
    "    h=len(b)\n",
    "    for i in range(h):#chuỗi b chạy\n",
    "        samea=0\n",
    "        for j in range(k):#chạy chuỗi a để kiểm tra\n",
    "            if i+j<h and b[i+j]==a[j]:#điều kiện\n",
    "                samea+=1\n",
    "        if samea==len(a):\n",
    "            cnt+=1\n",
    "    return cnt"
   ]
  },
  {
   "cell_type": "code",
   "execution_count": 10,
   "id": "78d646f5",
   "metadata": {},
   "outputs": [
    {
     "name": "stdout",
     "output_type": "stream",
     "text": [
      "aa aaa\n",
      "2\n"
     ]
    }
   ],
   "source": [
    "a,b=list(map(str,input().split()))\n",
    "print(cnt(a,b))"
   ]
  },
  {
   "cell_type": "code",
   "execution_count": 35,
   "id": "51890422",
   "metadata": {},
   "outputs": [],
   "source": [
    "#bài 2\n",
    "import math\n",
    "def check(a):\n",
    "    \"\"\"\n",
    "    :param:\n",
    "    input:\n",
    "    số a\n",
    "    output:\n",
    "    tổng ước > a return True\n",
    "    ngược lại return False\n",
    "    chạy từ 1 đến a-1 để tính tổng ước\n",
    "    \"\"\"\n",
    "    tong=0\n",
    "    for i in range(1,a):\n",
    "        if a%i==0 :\n",
    "            tong+=i\n",
    "    if tong>a:\n",
    "        return True\n",
    "    else:\n",
    "        return False"
   ]
  },
  {
   "cell_type": "code",
   "execution_count": 38,
   "id": "ae99b2fb",
   "metadata": {},
   "outputs": [],
   "source": [
    "def run(n,a):\n",
    "    \"\"\"\n",
    "    :param:\n",
    "    input:\n",
    "    số n, mảng a\n",
    "    output:\n",
    "    số các số may mắn\n",
    "    mảng các số may mắn sau khi sắp xếp\n",
    "    \"\"\"\n",
    "    cnt=0\n",
    "    ans=[]\n",
    "    for i in range(n):\n",
    "        if check(a[i]):\n",
    "            cnt+=1\n",
    "            ans.append(a[i])\n",
    "    print(cnt)\n",
    "    ans.sort()\n",
    "    print(ans)"
   ]
  },
  {
   "cell_type": "code",
   "execution_count": 40,
   "id": "e386209a",
   "metadata": {},
   "outputs": [
    {
     "name": "stdout",
     "output_type": "stream",
     "text": [
      "3\n",
      "55 66 12\n",
      "2\n",
      "[12, 66]\n"
     ]
    }
   ],
   "source": [
    "run(int(input()),list(map(int,input().split())))"
   ]
  },
  {
   "cell_type": "code",
   "execution_count": 41,
   "id": "f7095c90",
   "metadata": {},
   "outputs": [],
   "source": [
    "#bai 3\n",
    "import math\n",
    "def check(a):\n",
    "    \"\"\"\n",
    "    :param:\n",
    "    input:\n",
    "    số a\n",
    "    output:\n",
    "    số a có là số nguyên tố 3 ước không\n",
    "    \"\"\"\n",
    "    cnt=0\n",
    "    for i in range(1,a):\n",
    "        if a%i==0:\n",
    "            cnt+=1\n",
    "    if cnt==2:\n",
    "        return True\n",
    "    else:\n",
    "        return False"
   ]
  },
  {
   "cell_type": "code",
   "execution_count": 44,
   "id": "ce92ba52",
   "metadata": {},
   "outputs": [],
   "source": [
    "def run(n,a):\n",
    "    \"\"\"\n",
    "    :param:\n",
    "    input:\n",
    "    số n, mảng a\n",
    "    output:\n",
    "    trả về \"KHôNG\" nếu không có số nào trog dãy\n",
    "    ngược lại trả về cnt là số số nguyên tố 3 ước\n",
    "    \"\"\"\n",
    "    cnt=0\n",
    "    for i in a:\n",
    "        if check(i):\n",
    "            cnt+=1\n",
    "    if cnt==False:\n",
    "        print(\"KHôNG\")\n",
    "    else:\n",
    "        print(cnt)\n",
    "    "
   ]
  },
  {
   "cell_type": "code",
   "execution_count": 46,
   "id": "66ac3bdd",
   "metadata": {},
   "outputs": [
    {
     "name": "stdout",
     "output_type": "stream",
     "text": [
      "3\n",
      "1 4 9\n",
      "2\n"
     ]
    }
   ],
   "source": [
    "run(int(input()),list(map(int,input().split())))"
   ]
  },
  {
   "cell_type": "code",
   "execution_count": 63,
   "id": "417ba395",
   "metadata": {},
   "outputs": [],
   "source": [
    "#bai4\n",
    "import math\n",
    "def check(a):\n",
    "    \"\"\"\n",
    "    :param:\n",
    "    input:\n",
    "    chuỗi a\n",
    "    output:\n",
    "    chuỗi a sau khi đọc lại\n",
    "    \"\"\"\n",
    "    newa=\"\"\n",
    "    cnt=1\n",
    "    for i in range(1,len(a)):\n",
    "        cnt=1\n",
    "        if i+1<a and a[i]!=a[i+1]:\n",
    "            newa+=str(cnt)+a[i]\n",
    "        elif a[i]==a[i+1]:\n",
    "            cnt+=1\n",
    "    newa=newa+str(cnt)+str(a[len(a)-1])\n",
    "    return newa"
   ]
  },
  {
   "cell_type": "code",
   "execution_count": null,
   "id": "f8103137",
   "metadata": {},
   "outputs": [],
   "source": []
  },
  {
   "cell_type": "code",
   "execution_count": 64,
   "id": "011afb4e",
   "metadata": {},
   "outputs": [
    {
     "name": "stdout",
     "output_type": "stream",
     "text": [
      "1 2\n",
      "12\n"
     ]
    }
   ],
   "source": [
    "n,a=list(map(int,input().split()))\n",
    "a=str(a)\n",
    "for i in range(n):\n",
    "    a=check(a)\n",
    "print(a)"
   ]
  },
  {
   "cell_type": "code",
   "execution_count": null,
   "id": "11c513d5",
   "metadata": {},
   "outputs": [],
   "source": []
  },
  {
   "cell_type": "code",
   "execution_count": null,
   "id": "31f56edf",
   "metadata": {},
   "outputs": [],
   "source": []
  }
 ],
 "metadata": {
  "kernelspec": {
   "display_name": "Python 3",
   "language": "python",
   "name": "python3"
  },
  "language_info": {
   "codemirror_mode": {
    "name": "ipython",
    "version": 3
   },
   "file_extension": ".py",
   "mimetype": "text/x-python",
   "name": "python",
   "nbconvert_exporter": "python",
   "pygments_lexer": "ipython3",
   "version": "3.8.8"
  }
 },
 "nbformat": 4,
 "nbformat_minor": 5
}
