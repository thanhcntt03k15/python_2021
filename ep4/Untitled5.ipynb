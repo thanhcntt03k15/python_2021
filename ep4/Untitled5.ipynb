{
 "cells": [
  {
   "cell_type": "code",
   "execution_count": 6,
   "id": "7e98e6d8",
   "metadata": {},
   "outputs": [
    {
     "name": "stdout",
     "output_type": "stream",
     "text": [
      "1 2 3 4 5 6\n",
      "111\n"
     ]
    }
   ],
   "source": [
    "a = list(map(int, input().split()))\n",
    "x = int(input())"
   ]
  },
  {
   "cell_type": "code",
   "execution_count": 3,
   "id": "c048de12",
   "metadata": {},
   "outputs": [],
   "source": [
    "import math\n",
    "def xoas(a,x):\n",
    "    \"\"\"\n",
    "    :param:\n",
    "    input:\n",
    "    một mảng a và phần tử x\n",
    "    output:\n",
    "    vị trí của x đầu tiên trên a\n",
    "    \n",
    "    \"\"\"\n",
    "    for i in range(len(a)):\n",
    "        if x==a[i]:\n",
    "            a.remove(a[i])\n",
    "            return i\n",
    "    print(\"x không thuộc mảng a\")\n",
    "        "
   ]
  },
  {
   "cell_type": "code",
   "execution_count": 9,
   "id": "26d7e145",
   "metadata": {},
   "outputs": [],
   "source": [
    "def xoak(a,x):\n",
    "    \"\"\"\n",
    "    :param:\n",
    "    input:\n",
    "    mảng a,số x\n",
    "    output:\n",
    "    mảng sau khi xóa mọi x\n",
    "    \"\"\"\n",
    "    b=[]\n",
    "    b=[i for i in a if i!=x]\n",
    "    return b\n",
    "        "
   ]
  },
  {
   "cell_type": "code",
   "execution_count": 15,
   "id": "6a4c3ba7",
   "metadata": {},
   "outputs": [],
   "source": [
    "def chen(a,x,y):\n",
    "    \"\"\"\n",
    "    :param:\n",
    "    input: \n",
    "    mảng a, số x, vị trí y\n",
    "    run:\n",
    "    kiểm tra xem mảng có vị trí y không nếu không thì return \"không chèn được\"\n",
    "    output:\n",
    "    mảng a sau khi chèn x tại vị trí y\n",
    "    \"\"\"\n",
    "    if y<0 or y>len(a):\n",
    "        return \"không chèn được\"\n",
    "    else:\n",
    "        a.insert(y,x)\n",
    "        return a"
   ]
  },
  {
   "cell_type": "code",
   "execution_count": 1,
   "id": "dd4e5526",
   "metadata": {},
   "outputs": [],
   "source": [
    "#a\n",
    "print(xoas(a,x)"
   ]
  },
  {
   "cell_type": "code",
   "execution_count": 10,
   "id": "f226d159",
   "metadata": {},
   "outputs": [
    {
     "name": "stdout",
     "output_type": "stream",
     "text": [
      "[1, 2, 3, 4, 5, 6]\n"
     ]
    }
   ],
   "source": [
    "#b\n",
    "print(xoak(a,x))"
   ]
  },
  {
   "cell_type": "code",
   "execution_count": 16,
   "id": "10699f94",
   "metadata": {},
   "outputs": [
    {
     "name": "stdout",
     "output_type": "stream",
     "text": [
      "123\n",
      "không chèn được\n"
     ]
    }
   ],
   "source": [
    "#c\n",
    "print(chen(a,x,int(input())))"
   ]
  },
  {
   "cell_type": "code",
   "execution_count": null,
   "id": "0d7a3277",
   "metadata": {},
   "outputs": [],
   "source": []
  }
 ],
 "metadata": {
  "kernelspec": {
   "display_name": "Python 3",
   "language": "python",
   "name": "python3"
  },
  "language_info": {
   "codemirror_mode": {
    "name": "ipython",
    "version": 3
   },
   "file_extension": ".py",
   "mimetype": "text/x-python",
   "name": "python",
   "nbconvert_exporter": "python",
   "pygments_lexer": "ipython3",
   "version": "3.8.8"
  }
 },
 "nbformat": 4,
 "nbformat_minor": 5
}
