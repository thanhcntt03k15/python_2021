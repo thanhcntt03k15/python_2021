{
 "cells": [
  {
   "cell_type": "code",
   "execution_count": 21,
   "id": "9b78441f",
   "metadata": {},
   "outputs": [],
   "source": [
    "import math\n",
    "def MyMathShower(a):\n",
    "    \"\"\"\n",
    "    :param:\n",
    "    input:\n",
    "    mảng a\n",
    "    output:\n",
    "    tổng tích hiệu của mảng\n",
    "    \"\"\"\n",
    "    t=0\n",
    "    s=1\n",
    "    for i in a:\n",
    "        t+=i\n",
    "        s*=i\n",
    "    h=a[0]*2\n",
    "    for i in a:\n",
    "        h-=i\n",
    "    return t,s,h\n",
    "    "
   ]
  },
  {
   "cell_type": "code",
   "execution_count": 23,
   "id": "cdd88425",
   "metadata": {},
   "outputs": [
    {
     "name": "stdout",
     "output_type": "stream",
     "text": [
      "1 2 3\n",
      "(6, 6, -4)\n"
     ]
    }
   ],
   "source": [
    "a=list(map(int , input().split()))\n",
    "print(MyMathShower(a))"
   ]
  },
  {
   "cell_type": "code",
   "execution_count": null,
   "id": "48131d0e",
   "metadata": {},
   "outputs": [],
   "source": []
  },
  {
   "cell_type": "code",
   "execution_count": null,
   "id": "312d9e80",
   "metadata": {},
   "outputs": [],
   "source": []
  }
 ],
 "metadata": {
  "kernelspec": {
   "display_name": "Python 3",
   "language": "python",
   "name": "python3"
  },
  "language_info": {
   "codemirror_mode": {
    "name": "ipython",
    "version": 3
   },
   "file_extension": ".py",
   "mimetype": "text/x-python",
   "name": "python",
   "nbconvert_exporter": "python",
   "pygments_lexer": "ipython3",
   "version": "3.8.8"
  }
 },
 "nbformat": 4,
 "nbformat_minor": 5
}
