{
 "cells": [
  {
   "cell_type": "code",
   "execution_count": 18,
   "id": "00a5a2e0",
   "metadata": {},
   "outputs": [
    {
     "name": "stdout",
     "output_type": "stream",
     "text": [
      "Thạch Rờ ÂuUu ThạchRùi\n"
     ]
    }
   ],
   "source": [
    "n = input()"
   ]
  },
  {
   "cell_type": "code",
   "execution_count": 19,
   "id": "3eacee2e",
   "metadata": {},
   "outputs": [],
   "source": [
    "s=\"TRẺTRÂU\"\n",
    "j=0"
   ]
  },
  {
   "cell_type": "code",
   "execution_count": 20,
   "id": "55e6b2fe",
   "metadata": {},
   "outputs": [
    {
     "name": "stdout",
     "output_type": "stream",
     "text": [
      "Không TRẺ TRÂU\n"
     ]
    }
   ],
   "source": [
    "for i in n:\n",
    "    if j>=len(s):\n",
    "        break\n",
    "    if i==s[j]:\n",
    "        j+=1\n",
    "if j==len(s):\n",
    "    print(\"TRẺ TRÂU\")\n",
    "else:\n",
    "    print(\"Không TRẺ TRÂU\")"
   ]
  },
  {
   "cell_type": "code",
   "execution_count": null,
   "id": "fca735f6",
   "metadata": {},
   "outputs": [],
   "source": []
  }
 ],
 "metadata": {
  "kernelspec": {
   "display_name": "Python 3",
   "language": "python",
   "name": "python3"
  },
  "language_info": {
   "codemirror_mode": {
    "name": "ipython",
    "version": 3
   },
   "file_extension": ".py",
   "mimetype": "text/x-python",
   "name": "python",
   "nbconvert_exporter": "python",
   "pygments_lexer": "ipython3",
   "version": "3.8.8"
  }
 },
 "nbformat": 4,
 "nbformat_minor": 5
}
