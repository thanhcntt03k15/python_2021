{
 "cells": [
  {
   "cell_type": "code",
   "execution_count": 5,
   "id": "bf089f53",
   "metadata": {},
   "outputs": [
    {
     "name": "stdout",
     "output_type": "stream",
     "text": [
      "{'Ngoc', 'Nam', 'Long', 'Binh', 'An'}\n"
     ]
    }
   ],
   "source": [
    "A = {'An', 'Binh', 'Nam', 'Long', 'Ngoc', 'Tu'}\n",
    "B = {'Binh', 'Linh', 'Nam', 'Hai', 'Long'}\n",
    "#b1\n",
    "A.remove(\"Tu\")\n",
    "print(A)\n"
   ]
  },
  {
   "cell_type": "code",
   "execution_count": 6,
   "id": "d6960b71",
   "metadata": {},
   "outputs": [
    {
     "name": "stdout",
     "output_type": "stream",
     "text": [
      "{'Ngoc', 'Cuong', 'Nam', 'Long', 'Binh', 'An'}\n"
     ]
    }
   ],
   "source": [
    "#b2\n",
    "A.add('Cuong')\n",
    "print(A)"
   ]
  },
  {
   "cell_type": "code",
   "execution_count": 10,
   "id": "64f37cb4",
   "metadata": {},
   "outputs": [
    {
     "name": "stdout",
     "output_type": "stream",
     "text": [
      "{'Linh', 'Ngoc', 'Cuong', 'An', 'Hai'}\n"
     ]
    }
   ],
   "source": [
    "#b3\n",
    "C=A.union(B)\n",
    "print(C)"
   ]
  },
  {
   "cell_type": "code",
   "execution_count": 14,
   "id": "43ef7f48",
   "metadata": {},
   "outputs": [
    {
     "name": "stdout",
     "output_type": "stream",
     "text": [
      "{'Nam', 'Binh', 'Long'}\n"
     ]
    }
   ],
   "source": [
    "#b4\n",
    "D=A.intersection(B)\n",
    "print(D)"
   ]
  },
  {
   "cell_type": "code",
   "execution_count": 12,
   "id": "00d3ed00",
   "metadata": {},
   "outputs": [
    {
     "name": "stdout",
     "output_type": "stream",
     "text": [
      "{'Ngoc', 'Cuong', 'An'}\n"
     ]
    }
   ],
   "source": [
    "#b5\n",
    "D=A-B\n",
    "print(D)"
   ]
  },
  {
   "cell_type": "code",
   "execution_count": 16,
   "id": "0a41ea0a",
   "metadata": {},
   "outputs": [
    {
     "name": "stdout",
     "output_type": "stream",
     "text": [
      "{'Linh', 'Ngoc', 'Cuong', 'An', 'Hai'}\n"
     ]
    }
   ],
   "source": [
    "#b6\n",
    "E=A.symmetric_difference(B)\n",
    "print(E)"
   ]
  },
  {
   "cell_type": "code",
   "execution_count": null,
   "id": "3c054270",
   "metadata": {},
   "outputs": [],
   "source": []
  }
 ],
 "metadata": {
  "kernelspec": {
   "display_name": "Python 3",
   "language": "python",
   "name": "python3"
  },
  "language_info": {
   "codemirror_mode": {
    "name": "ipython",
    "version": 3
   },
   "file_extension": ".py",
   "mimetype": "text/x-python",
   "name": "python",
   "nbconvert_exporter": "python",
   "pygments_lexer": "ipython3",
   "version": "3.8.8"
  }
 },
 "nbformat": 4,
 "nbformat_minor": 5
}
