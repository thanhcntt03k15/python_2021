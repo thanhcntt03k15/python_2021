{
 "cells": [
  {
   "cell_type": "code",
   "execution_count": 48,
   "id": "3552a963",
   "metadata": {},
   "outputs": [],
   "source": [
    "import math\n",
    "def xd10(diem):\n",
    "    \"\"\"\n",
    "    :param:\n",
    "    :input:\n",
    "    điểm dưới dạng xâu\n",
    "    :output:\n",
    "    False nếu không chứa 1 hoặc 0\n",
    "    True nếu chứa 1 hoặc 0\n",
    "    \"\"\"\n",
    "    if '1' in diem or '0' in diem:\n",
    "            return True\n",
    "    return False\n"
   ]
  },
  {
   "cell_type": "code",
   "execution_count": 49,
   "id": "e4c58298",
   "metadata": {},
   "outputs": [],
   "source": [
    "def ss10(diem1 , diem2):\n",
    "    \"\"\"\n",
    "    :param:\n",
    "    :input:\n",
    "    hai xâu\n",
    "    :output:\n",
    "    True nếu vị trí của kí tự 0 và 1 của 2 xâu giống nhau\n",
    "    Flase nếu ngược lại\n",
    "    \"\"\"\n",
    "    setdiem1= set() #chứa các vị trí của kí tự 0 và 1 trong xau diem1\n",
    "    setdiem2= set() #chứa các vị trí của kí tự 0 và 2 trong xâu diem2\n",
    "    for i in range(len(diem1)):\n",
    "        if i == '0' or i == '1':\n",
    "            setdiem1.add(i) #lưu địa chỉ kí tự 1 và 0 của diem1\n",
    "    for i in range(len(diem2)):\n",
    "        if i == '0' or i == '1':\n",
    "            setdiem2.add(i) #lưu địa chỉ kí tự 1 và 0 của diem2\n",
    "    if setdiem1-setdiem2 == 0:\n",
    "        return True\n",
    "    return False"
   ]
  },
  {
   "cell_type": "code",
   "execution_count": 50,
   "id": "30e2efd6",
   "metadata": {},
   "outputs": [],
   "source": [
    "def slove(lst):\n",
    "    \"\"\"\n",
    "    :param:\n",
    "    :input:\n",
    "    một dãy các số\n",
    "    :output:\n",
    "    số các số được Lê Thạch coi là 10\n",
    "    \"\"\"\n",
    "    cnt=0\n",
    "    for i in lst:\n",
    "        if xd10(i):\n",
    "            cnt+=1 #lưu số được coi là 10\n",
    "    for i in range(len(lst)-1):\n",
    "        for j in range(i+1,len(lst)):\n",
    "            if ss10(lst[i],lst[j]):\n",
    "                cnt-=1 #giảm đi số số giống nhau\n",
    "    print(\"Có \"+str(cnt)+\" số được Lê Thạch coi là số 10\")"
   ]
  },
  {
   "cell_type": "code",
   "execution_count": 52,
   "id": "0acf2e0e",
   "metadata": {},
   "outputs": [
    {
     "name": "stdout",
     "output_type": "stream",
     "text": [
      "123 23 10 11\n",
      "Có 3 số được Lê Thạch coi là số 10\n"
     ]
    }
   ],
   "source": [
    "\n",
    "lst = list(map(str , input().split())) \n",
    "slove(lst)"
   ]
  },
  {
   "cell_type": "code",
   "execution_count": null,
   "id": "5860c65f",
   "metadata": {},
   "outputs": [],
   "source": []
  },
  {
   "cell_type": "code",
   "execution_count": null,
   "id": "f0be9735",
   "metadata": {},
   "outputs": [],
   "source": []
  }
 ],
 "metadata": {
  "kernelspec": {
   "display_name": "Python 3",
   "language": "python",
   "name": "python3"
  },
  "language_info": {
   "codemirror_mode": {
    "name": "ipython",
    "version": 3
   },
   "file_extension": ".py",
   "mimetype": "text/x-python",
   "name": "python",
   "nbconvert_exporter": "python",
   "pygments_lexer": "ipython3",
   "version": "3.8.8"
  }
 },
 "nbformat": 4,
 "nbformat_minor": 5
}
