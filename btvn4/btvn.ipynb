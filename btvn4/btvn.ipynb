{
 "cells": [
  {
   "cell_type": "code",
   "execution_count": 5,
   "id": "4286710c",
   "metadata": {},
   "outputs": [
    {
     "name": "stdout",
     "output_type": "stream",
     "text": [
      "123(12,12)\n",
      "['12', '12']\n"
     ]
    }
   ],
   "source": [
    "#bai1\n",
    "n=input()\n",
    "print(n[n.index('(')+1:n.index(')')].split(','))"
   ]
  },
  {
   "cell_type": "code",
   "execution_count": 8,
   "id": "bbbe30ae",
   "metadata": {},
   "outputs": [
    {
     "name": "stdout",
     "output_type": "stream",
     "text": [
      "bai2\n",
      "bai2\n"
     ]
    }
   ],
   "source": [
    "#bai2\n",
    "n=input()\n",
    "if len(n)>10:\n",
    "    print(n[0]+str(len(n)-2)+n[len(n)-1])\n",
    "else:\n",
    "    print(n)"
   ]
  },
  {
   "cell_type": "code",
   "execution_count": 20,
   "id": "1b3973c2",
   "metadata": {},
   "outputs": [
    {
     "name": "stdout",
     "output_type": "stream",
     "text": [
      "3+2+1\n",
      "1+2+3\n"
     ]
    }
   ],
   "source": [
    "#bai3\n",
    "n=list(map(str,input().split('+')))\n",
    "n.sort()\n",
    "print('+'.join(n))\n"
   ]
  },
  {
   "cell_type": "code",
   "execution_count": 22,
   "id": "3640c599",
   "metadata": {},
   "outputs": [
    {
     "name": "stdout",
     "output_type": "stream",
     "text": [
      "TheQuickBrownFoxJumpsOverTheLazyDog\n",
      "YES\n"
     ]
    }
   ],
   "source": [
    "#bai4\n",
    "n=input()\n",
    "m=set(i for i in n)\n",
    "if len(m)>=26:\n",
    "    print(\"YES\")\n",
    "else:\n",
    "    print(\"NO\")"
   ]
  },
  {
   "cell_type": "code",
   "execution_count": null,
   "id": "6aa75322",
   "metadata": {},
   "outputs": [],
   "source": [
    "#bai5\n",
    "em không rõ đề ạ @@"
   ]
  }
 ],
 "metadata": {
  "kernelspec": {
   "display_name": "Python 3",
   "language": "python",
   "name": "python3"
  },
  "language_info": {
   "codemirror_mode": {
    "name": "ipython",
    "version": 3
   },
   "file_extension": ".py",
   "mimetype": "text/x-python",
   "name": "python",
   "nbconvert_exporter": "python",
   "pygments_lexer": "ipython3",
   "version": "3.8.8"
  }
 },
 "nbformat": 4,
 "nbformat_minor": 5
}
