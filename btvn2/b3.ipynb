{
 "cells": [
  {
   "cell_type": "code",
   "execution_count": null,
   "id": "7455b02e",
   "metadata": {},
   "outputs": [],
   "source": [
    "s=input(\"Nhập chuỗi s : \")"
   ]
  },
  {
   "cell_type": "code",
   "execution_count": null,
   "id": "e0129d7e",
   "metadata": {},
   "outputs": [],
   "source": [
    "while len(s)<10:\n",
    "    s = input(\"Nhập lại chuỗi : \")"
   ]
  },
  {
   "cell_type": "code",
   "execution_count": null,
   "id": "9e365465",
   "metadata": {},
   "outputs": [],
   "source": [
    "print(s[2:7])"
   ]
  },
  {
   "cell_type": "code",
   "execution_count": null,
   "id": "54743888",
   "metadata": {},
   "outputs": [],
   "source": [
    "print(s.upper())"
   ]
  },
  {
   "cell_type": "code",
   "execution_count": null,
   "id": "311e1dbd",
   "metadata": {},
   "outputs": [],
   "source": [
    "print(s.lower())"
   ]
  },
  {
   "cell_type": "code",
   "execution_count": null,
   "id": "a22a6689",
   "metadata": {},
   "outputs": [],
   "source": [
    "print(s.replace(\"b\",\"g\"))"
   ]
  },
  {
   "cell_type": "code",
   "execution_count": null,
   "id": "748cb270",
   "metadata": {},
   "outputs": [],
   "source": [
    "s=\"hElLo-mY-NAMe-iS-SuZIe\""
   ]
  },
  {
   "cell_type": "code",
   "execution_count": 24,
   "id": "60f97251",
   "metadata": {},
   "outputs": [
    {
     "name": "stdout",
     "output_type": "stream",
     "text": [
      "Hello My Name Is Suzie\n"
     ]
    }
   ],
   "source": [
    "print((\" \".join(s.split(\"-\")).title()))\n"
   ]
  },
  {
   "cell_type": "code",
   "execution_count": null,
   "id": "8d8d78c7",
   "metadata": {},
   "outputs": [],
   "source": []
  },
  {
   "cell_type": "code",
   "execution_count": null,
   "id": "bc5cba47",
   "metadata": {},
   "outputs": [],
   "source": []
  }
 ],
 "metadata": {
  "kernelspec": {
   "display_name": "Python 3",
   "language": "python",
   "name": "python3"
  },
  "language_info": {
   "codemirror_mode": {
    "name": "ipython",
    "version": 3
   },
   "file_extension": ".py",
   "mimetype": "text/x-python",
   "name": "python",
   "nbconvert_exporter": "python",
   "pygments_lexer": "ipython3",
   "version": "3.8.8"
  }
 },
 "nbformat": 4,
 "nbformat_minor": 5
}
