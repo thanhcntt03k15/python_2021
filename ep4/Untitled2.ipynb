{
 "cells": [
  {
   "cell_type": "code",
   "execution_count": 1,
   "id": "5e04e29c",
   "metadata": {},
   "outputs": [
    {
     "name": "stdout",
     "output_type": "stream",
     "text": [
      "jelly\n",
      "jely\n"
     ]
    }
   ],
   "source": [
    "j=input()\n",
    "if len(j)<2:\n",
    "    print([])\n",
    "else:\n",
    "    print(j[0:2]+j[len(j)-2:])"
   ]
  },
  {
   "cell_type": "code",
   "execution_count": null,
   "id": "600c45f6",
   "metadata": {},
   "outputs": [],
   "source": []
  }
 ],
 "metadata": {
  "kernelspec": {
   "display_name": "Python 3",
   "language": "python",
   "name": "python3"
  },
  "language_info": {
   "codemirror_mode": {
    "name": "ipython",
    "version": 3
   },
   "file_extension": ".py",
   "mimetype": "text/x-python",
   "name": "python",
   "nbconvert_exporter": "python",
   "pygments_lexer": "ipython3",
   "version": "3.8.8"
  }
 },
 "nbformat": 4,
 "nbformat_minor": 5
}
