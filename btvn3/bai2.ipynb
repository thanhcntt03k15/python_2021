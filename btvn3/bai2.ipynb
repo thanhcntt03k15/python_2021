{
 "cells": [
  {
   "cell_type": "code",
   "execution_count": 5,
   "id": "0f726238",
   "metadata": {},
   "outputs": [
    {
     "name": "stdout",
     "output_type": "stream",
     "text": [
      "123 124 125\n",
      "123\n",
      "{'125', '124'}là số phần tử thuộc lst1 nhưng không thuộc lst2\n"
     ]
    }
   ],
   "source": [
    "lst1 = set(( input().split()))\n",
    "lst2 = set(( input().split()))\n",
    "print(str(lst1-lst2) + \"là số phần tử thuộc lst1 nhưng không thuộc lst2\")"
   ]
  },
  {
   "cell_type": "code",
   "execution_count": null,
   "id": "4a55f3bf",
   "metadata": {},
   "outputs": [],
   "source": []
  },
  {
   "cell_type": "code",
   "execution_count": null,
   "id": "b4d1396d",
   "metadata": {},
   "outputs": [],
   "source": []
  }
 ],
 "metadata": {
  "kernelspec": {
   "display_name": "Python 3",
   "language": "python",
   "name": "python3"
  },
  "language_info": {
   "codemirror_mode": {
    "name": "ipython",
    "version": 3
   },
   "file_extension": ".py",
   "mimetype": "text/x-python",
   "name": "python",
   "nbconvert_exporter": "python",
   "pygments_lexer": "ipython3",
   "version": "3.8.8"
  }
 },
 "nbformat": 4,
 "nbformat_minor": 5
}
