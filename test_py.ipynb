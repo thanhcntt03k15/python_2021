{
 "cells": [
  {
   "cell_type": "code",
   "execution_count": 7,
   "id": "07ee0973",
   "metadata": {},
   "outputs": [
    {
     "name": "stdout",
     "output_type": "stream",
     "text": [
      "1 10 2\n",
      "{2: 4, 4: 16, 6: 36, 8: 64, 10: 100}\n"
     ]
    }
   ],
   "source": [
    "#bai1\n",
    "Dic={}\n",
    "\n",
    "a,b,n= list(map(int, input().split()))\n",
    "for i in range(a,b+1):\n",
    "    if i%n==0:\n",
    "        Dic[i]=i*i\n",
    "print(Dic)"
   ]
  },
  {
   "cell_type": "code",
   "execution_count": 28,
   "id": "e6a104f5",
   "metadata": {},
   "outputs": [
    {
     "name": "stdout",
     "output_type": "stream",
     "text": [
      "0 0 1 2 3 4 4 5 6 6 6 7 8 9 4 4\n",
      "[[0, 0], [2], [4, 4, 4, 4], [6, 6, 6], [8]]\n"
     ]
    }
   ],
   "source": [
    "#bai2\n",
    "listk=list(map(int , input().split()))\n",
    "k=[]\n",
    "for i in listk:\n",
    "        h=[]\n",
    "        for j in range(listk.count(i)):\n",
    "            h.append(i)\n",
    "        n=listk.count(i)\n",
    "        for cnt in range(n):\n",
    "            listk.remove(i)\n",
    "        k.append(h)\n",
    "print(k)"
   ]
  },
  {
   "cell_type": "code",
   "execution_count": 50,
   "id": "84a767f2",
   "metadata": {},
   "outputs": [
    {
     "name": "stdout",
     "output_type": "stream",
     "text": [
      "[[0.30769231 0.14285714 0.42857143]\n",
      " [0.5        0.45454545 0.5       ]\n",
      " [0.47058824 0.35294118 0.53333333]]\n",
      "(0, 0.0)\n"
     ]
    }
   ],
   "source": [
    "import numpy as np\n",
    "from numpy.random import choice\n",
    "m=np.array([2,3,4,5,6,7,8,9])\n",
    "n=np.array([10,11,12,13,14,15,16,17,18,19,20])\n",
    "a=np.array()\n",
    "b=np.array([[choice(n),choice(n),choice(n)],\n",
    "          [choice(n),choice(n),choice(n)],\n",
    "          [choice(n),choice(n),choice(n)]])\n",
    "\n",
    "c=np.divide(a,b)\n",
    "\n",
    "print(c)\n",
    "def congra(c):\n",
    "    t=0\n",
    "    maxx=0\n",
    "    for i in c :\n",
    "        for j in i:\n",
    "            if j>maxx:\n",
    "                j=maxx\n",
    "            t+=j\n",
    "    return maxx,t/9\n",
    "print(congra(c))"
   ]
  },
  {
   "cell_type": "code",
   "execution_count": 63,
   "id": "626d7bcb",
   "metadata": {},
   "outputs": [
    {
     "name": "stdout",
     "output_type": "stream",
     "text": [
      "France\n"
     ]
    }
   ],
   "source": [
    "import numpy as np\n",
    "import pandas as pd\n",
    "from matplotlib import pyplot as plt\n",
    "from sklearn.impute import SimpleImputer as SI\n",
    "dk=pd.read_csv(\"Data.csv\")\n",
    "file = SI(missing_values=np.nan,strategy='mean')\n",
    "dk.iloc[:,1:3]=file.fit_transform(dk.iloc[:,1:3])\n",
    "def check(k):\n",
    "    m=0\n",
    "    maxx=k[1]\n",
    "    for i in range(len(k)):\n",
    "        if k[i]>maxx:\n",
    "            m=i\n",
    "            maxx=k[i]\n",
    "    return m\n",
    "\n",
    "print(dk.iloc[0,check(list(dk[\"Country\"]))])"
   ]
  },
  {
   "cell_type": "code",
   "execution_count": null,
   "id": "b49e64c2",
   "metadata": {},
   "outputs": [],
   "source": []
  }
 ],
 "metadata": {
  "kernelspec": {
   "display_name": "Python 3",
   "language": "python",
   "name": "python3"
  },
  "language_info": {
   "codemirror_mode": {
    "name": "ipython",
    "version": 3
   },
   "file_extension": ".py",
   "mimetype": "text/x-python",
   "name": "python",
   "nbconvert_exporter": "python",
   "pygments_lexer": "ipython3",
   "version": "3.8.8"
  }
 },
 "nbformat": 4,
 "nbformat_minor": 5
}
