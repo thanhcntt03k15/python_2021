{
 "cells": [
  {
   "cell_type": "code",
   "execution_count": 2,
   "id": "707da9d3",
   "metadata": {},
   "outputs": [
    {
     "name": "stdout",
     "output_type": "stream",
     "text": [
      "‘2’,’5’,’6’,’3’,’8’,’9’\n",
      "(2, 6, 8, 5, 3, 9)\n"
     ]
    }
   ],
   "source": [
    "s = input()\n",
    "a=[]\n",
    "b=[]\n",
    "for i in s:\n",
    "    if '9'>=i>='0':\n",
    "        if int(i)%2==0:\n",
    "            a.append(int(i))\n",
    "        else:\n",
    "            b.append(int(i))\n",
    "c=a+b\n",
    "print(tuple(c))"
   ]
  },
  {
   "cell_type": "code",
   "execution_count": null,
   "id": "da1d1861",
   "metadata": {},
   "outputs": [],
   "source": []
  }
 ],
 "metadata": {
  "kernelspec": {
   "display_name": "Python 3",
   "language": "python",
   "name": "python3"
  },
  "language_info": {
   "codemirror_mode": {
    "name": "ipython",
    "version": 3
   },
   "file_extension": ".py",
   "mimetype": "text/x-python",
   "name": "python",
   "nbconvert_exporter": "python",
   "pygments_lexer": "ipython3",
   "version": "3.8.8"
  }
 },
 "nbformat": 4,
 "nbformat_minor": 5
}
