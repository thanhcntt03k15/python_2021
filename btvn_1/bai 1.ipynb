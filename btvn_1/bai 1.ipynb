{
 "cells": [
  {
   "cell_type": "code",
   "execution_count": 7,
   "id": "994043cf",
   "metadata": {},
   "outputs": [
    {
     "name": "stdout",
     "output_type": "stream",
     "text": [
      "12\n"
     ]
    }
   ],
   "source": [
    "import math\n",
    "R=float(input())"
   ]
  },
  {
   "cell_type": "code",
   "execution_count": 8,
   "id": "472f656e",
   "metadata": {},
   "outputs": [
    {
     "name": "stdout",
     "output_type": "stream",
     "text": [
      "Chu vi la : 75.39822368615503\n"
     ]
    }
   ],
   "source": [
    "print(\"Chu vi la : \" + str(R*2*math.pi))"
   ]
  },
  {
   "cell_type": "code",
   "execution_count": 9,
   "id": "6142853f",
   "metadata": {},
   "outputs": [
    {
     "name": "stdout",
     "output_type": "stream",
     "text": [
      "Dien tich la : 452.3893421169302\n"
     ]
    }
   ],
   "source": [
    "print(\"Dien tich la : \" + str(R*R*math.pi))"
   ]
  },
  {
   "cell_type": "code",
   "execution_count": null,
   "id": "65e62f5e",
   "metadata": {},
   "outputs": [],
   "source": []
  }
 ],
 "metadata": {
  "kernelspec": {
   "display_name": "Python 3",
   "language": "python",
   "name": "python3"
  },
  "language_info": {
   "codemirror_mode": {
    "name": "ipython",
    "version": 3
   },
   "file_extension": ".py",
   "mimetype": "text/x-python",
   "name": "python",
   "nbconvert_exporter": "python",
   "pygments_lexer": "ipython3",
   "version": "3.8.8"
  }
 },
 "nbformat": 4,
 "nbformat_minor": 5
}
